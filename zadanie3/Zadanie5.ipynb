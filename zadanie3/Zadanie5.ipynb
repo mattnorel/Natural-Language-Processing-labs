{
 "cells": [
  {
   "cell_type": "markdown",
   "metadata": {},
   "source": [
    "# Inżynieria lingwistyczna\n",
    "Ten notebook jest oceniany półautomatycznie. Nie twórz ani nie usuwaj komórek - struktura notebooka musi zostać zachowana. Odpowiedź wypełnij tam gdzie jest na to wskazane miejsce - odpowiedzi w innych miejscach nie będą sprawdzane (nie są widoczne dla sprawdzającego w systemie).\n",
    "\n",
    "Make sure you fill in any place that says `YOUR CODE HERE` or \"YOUR ANSWER HERE\"."
   ]
  },
  {
   "cell_type": "markdown",
   "metadata": {},
   "source": [
    "---"
   ]
  },
  {
   "cell_type": "markdown",
   "metadata": {},
   "source": [
    "# Moduł 5: Statystyczne tłumaczenie maszynowe\n",
    "\n",
    "## Zadanie 1\n",
    "Zadanie polega na zaimplementowaniu algorytmu Expectation-Maximization w modelu IBM Model 1 do przypasowywania słów. Będzie to fragment modelu, który tłumaczyć będzie z hiszpańskiego na angielski. \n",
    "\n",
    "UWAGA: Specjalny token \"NULL\" pomijamy w implementacji.\n",
    "\n",
    "Dany jest mini-korpus równoległy angielsko-hiszpański\n",
    "- \"green house\" \"casa verde\"\n",
    "- \"the house\" \"la casa\"\n",
    "- \"the green house\" \"la casa verde\"\n"
   ]
  },
  {
   "cell_type": "code",
   "execution_count": 1,
   "metadata": {},
   "outputs": [],
   "source": [
    "import itertools\n",
    "english = [[\"green\",\"house\"], [\"the\",\"house\"], [\"the\", \"green\", \"house\"]]\n",
    "spanish = [[\"casa\", \"verde\"], [\"la\", \"casa\"], [\"la\", \"casa\", \"verde\"]]"
   ]
  },
  {
   "cell_type": "markdown",
   "metadata": {},
   "source": [
    "W dalszych funkcjach przydatne może być wyznaczenie słownika czyli zbioru słów z korpusu dla danego języka."
   ]
  },
  {
   "cell_type": "code",
   "execution_count": 2,
   "metadata": {
    "deletable": false,
    "nbgrader": {
     "cell_type": "code",
     "checksum": "ab962d04ff327161dd545fd42ce9b2ee",
     "grade": false,
     "grade_id": "cell-91ce5ad3201d3840",
     "locked": false,
     "schema_version": 3,
     "solution": true,
     "task": false
    }
   },
   "outputs": [],
   "source": [
    "import numpy as np\n",
    "\n",
    "def get_vocabulary(corpus):\n",
    "    \"\"\"\n",
    "    Funkcja zwracająca listę unikalnych słów z korpusu podanego w formacie zmiennej english i spanish\n",
    "    \"\"\"\n",
    "    return set(np.concatenate(corpus))"
   ]
  },
  {
   "cell_type": "code",
   "execution_count": 3,
   "metadata": {
    "deletable": false,
    "editable": false,
    "nbgrader": {
     "cell_type": "code",
     "checksum": "03f2fde3e2385f2037bcb146ba7914e5",
     "grade": true,
     "grade_id": "cell-69a37d074c36bafa",
     "locked": true,
     "points": 1,
     "schema_version": 3,
     "solution": false,
     "task": false
    }
   },
   "outputs": [],
   "source": [
    "from nose.tools import assert_set_equal\n",
    "assert_set_equal(set(get_vocabulary(english)), set([\"the\", \"green\", \"house\"]))"
   ]
  },
  {
   "cell_type": "markdown",
   "metadata": {},
   "source": [
    "Zainicjalizuj rozkład prawdopodobieństwa tłumaczenia słów rozkładem jednorodnym. Ponieważ zależy nam na prostocie implementacji (a nie efektywności) możemy to prawdopodobieństwo zaimplementować jako zwykły słownik, który będzie przyjmował na wejściu krotkę dwóch słów. Słownik nazwij `translation_prob` z kluczami (słowo_es, słowo_en)."
   ]
  },
  {
   "cell_type": "code",
   "execution_count": 4,
   "metadata": {
    "deletable": false,
    "nbgrader": {
     "cell_type": "code",
     "checksum": "c5f903d8e7d39b8ca60c841fe1ff55b3",
     "grade": false,
     "grade_id": "cell-d90e10211e9d2c82",
     "locked": false,
     "schema_version": 3,
     "solution": true,
     "task": false
    }
   },
   "outputs": [],
   "source": [
    "def initalize_translation_prob(corpus1, corpus2):\n",
    "    pairs = list(itertools.product(get_vocabulary(corpus2), get_vocabulary(corpus1)))\n",
    "    translation_prob = {p: 1/len(get_vocabulary(corpus2)) for p in pairs}\n",
    "    return translation_prob\n",
    "        \n",
    "translation_prob = initalize_translation_prob(english, spanish)"
   ]
  },
  {
   "cell_type": "markdown",
   "metadata": {},
   "source": [
    "Wypisz zaincjalizowany słownik, żeby upewnić się że wynik jest prawidłowy."
   ]
  },
  {
   "cell_type": "code",
   "execution_count": 5,
   "metadata": {},
   "outputs": [
    {
     "data": {
      "text/plain": [
       "{('la', 'the'): 0.3333333333333333,\n",
       " ('la', 'green'): 0.3333333333333333,\n",
       " ('la', 'house'): 0.3333333333333333,\n",
       " ('verde', 'the'): 0.3333333333333333,\n",
       " ('verde', 'green'): 0.3333333333333333,\n",
       " ('verde', 'house'): 0.3333333333333333,\n",
       " ('casa', 'the'): 0.3333333333333333,\n",
       " ('casa', 'green'): 0.3333333333333333,\n",
       " ('casa', 'house'): 0.3333333333333333}"
      ]
     },
     "execution_count": 5,
     "metadata": {},
     "output_type": "execute_result"
    }
   ],
   "source": [
    "translation_prob"
   ]
  },
  {
   "cell_type": "markdown",
   "metadata": {},
   "source": [
    "Zaimplementuj pierwszy krok algorytmu EM. Wyznacz wartości oczekiwane zmiennych przypisania słowa we wszystkich zdaniach w korpusie (oznaczane na wykładzie jako `a`)."
   ]
  },
  {
   "cell_type": "code",
   "execution_count": 6,
   "metadata": {
    "deletable": false,
    "nbgrader": {
     "cell_type": "code",
     "checksum": "b120bdbf77612fba126fed52c1626544",
     "grade": false,
     "grade_id": "cell-20e467cd48dc07f4",
     "locked": false,
     "schema_version": 3,
     "solution": true,
     "task": false
    }
   },
   "outputs": [],
   "source": [
    "import pandas as pd\n",
    "\n",
    "def calculate_expectation(corpora1, corpora2, translation_prob):\n",
    "    \"\"\"\n",
    "    Procedura wykonująca krok \"E\" algorytmu EM\n",
    "    Wynikiem powinny być wartości oczekiwane dla zmiennej przypisań słów w zdaniach \n",
    "    (reprezentacja dowolna, nie weryfikowana przez sprawdzarkę)\n",
    "    \"\"\"\n",
    "    dfs = []\n",
    "    for s1, s2 in zip(corpora2, corpora1):\n",
    "        df = pd.DataFrame(index=set(s1), columns=set(s2))\n",
    "        for p in translation_prob.keys():\n",
    "            if p in itertools.product(s1, s2):\n",
    "                df.loc[p[0], p[1]] = translation_prob[p]\n",
    "        df = df/df.sum()\n",
    "        dfs.append(df)\n",
    "    return dfs\n",
    "\n",
    "assigment_expected_values = calculate_expectation(english, spanish, translation_prob)"
   ]
  },
  {
   "cell_type": "markdown",
   "metadata": {},
   "source": [
    "Wypisz wartości oczekiwane zmiennych przypisań, aby zobaczyć jak wyglądają. Powinny one również prezentować całkowity brak wiedzy o przypisaniach (rozkłady jednorodne)."
   ]
  },
  {
   "cell_type": "code",
   "execution_count": 7,
   "metadata": {},
   "outputs": [
    {
     "data": {
      "text/plain": [
       "[      green house\n",
       " verde   0.5   0.5\n",
       " casa    0.5   0.5,       the house\n",
       " casa  0.5   0.5\n",
       " la    0.5   0.5,             the     green     house\n",
       " casa   0.333333  0.333333  0.333333\n",
       " verde  0.333333  0.333333  0.333333\n",
       " la     0.333333  0.333333  0.333333]"
      ]
     },
     "execution_count": 7,
     "metadata": {},
     "output_type": "execute_result"
    }
   ],
   "source": [
    "assigment_expected_values"
   ]
  },
  {
   "cell_type": "markdown",
   "metadata": {},
   "source": [
    "Zaimplementuj drugi krok algorytmu EM. Wyznacz nowe `translation_prob` na podstawie oczekiwanych wartości zmiennych przypisań."
   ]
  },
  {
   "cell_type": "code",
   "execution_count": 8,
   "metadata": {
    "deletable": false,
    "nbgrader": {
     "cell_type": "code",
     "checksum": "8f67c4062342e3a60cbbb1b28a783d37",
     "grade": false,
     "grade_id": "cell-5806efe4531f9f01",
     "locked": false,
     "schema_version": 3,
     "solution": true,
     "task": false
    }
   },
   "outputs": [],
   "source": [
    "def calculate_maximization(corpora1, corpora2, assigment_expected_values):\n",
    "    wrd_sum = {}\n",
    "    pairs = {}\n",
    "    for df in assigment_expected_values:\n",
    "        for wrd1 in list(df.index):\n",
    "            for wrd2 in df.columns:\n",
    "                val = df.loc[wrd1, wrd2]\n",
    "                pairs[(wrd1, wrd2)] = pairs[(wrd1, wrd2)] + val if pairs.get((wrd1, wrd2))!=None else val\n",
    "                wrd_sum[wrd2] = wrd_sum[wrd2] + val if wrd_sum.get(wrd2)!=None else val\n",
    "    for p in pairs.keys():\n",
    "        pairs[p] = pairs[p]/wrd_sum[p[1]]\n",
    "    return pairs\n",
    "\n",
    "translation_prob = calculate_maximization(english, spanish, assigment_expected_values)"
   ]
  },
  {
   "cell_type": "code",
   "execution_count": 9,
   "metadata": {
    "deletable": false,
    "editable": false,
    "nbgrader": {
     "cell_type": "code",
     "checksum": "0d92bddac888f1ab9d18c6ac43260456",
     "grade": true,
     "grade_id": "cell-4d5309aeab35f6c7",
     "locked": true,
     "points": 8,
     "schema_version": 3,
     "solution": false,
     "task": false
    }
   },
   "outputs": [],
   "source": [
    "from nose.tools import assert_almost_equal\n",
    "assert_almost_equal(translation_prob[('casa', 'house')], 4/9.)\n",
    "assert_almost_equal(translation_prob[('la', 'house')], 5/18.)"
   ]
  },
  {
   "cell_type": "markdown",
   "metadata": {},
   "source": [
    "Wywołaj w pętli 10 kroków algorytmu EM i zaobserwuj jak zmieniają się prawdopodobieństwa dla tłumacznienia \"house\"."
   ]
  },
  {
   "cell_type": "code",
   "execution_count": 10,
   "metadata": {},
   "outputs": [
    {
     "name": "stdout",
     "output_type": "stream",
     "text": [
      "[(('verde', 'house'), 0.22079772079772084), (('casa', 'house'), 0.5584045584045584), (('la', 'house'), 0.22079772079772084)]\n",
      "---\n",
      "[(('verde', 'house'), 0.16805384111904528), (('casa', 'house'), 0.6638923177619094), (('la', 'house'), 0.16805384111904528)]\n",
      "---\n",
      "[(('verde', 'house'), 0.12335156766127482), (('casa', 'house'), 0.7532968646774505), (('la', 'house'), 0.12335156766127482)]\n",
      "---\n",
      "[(('verde', 'house'), 0.08801990153205524), (('casa', 'house'), 0.8239601969358894), (('la', 'house'), 0.08801990153205524)]\n",
      "---\n",
      "[(('verde', 'house'), 0.061511685865775545), (('casa', 'house'), 0.8769766282684488), (('la', 'house'), 0.061511685865775545)]\n",
      "---\n",
      "[(('verde', 'house'), 0.042351684951809056), (('casa', 'house'), 0.9152966300963818), (('la', 'house'), 0.042351684951809056)]\n",
      "---\n",
      "[(('verde', 'house'), 0.02885878646072998), (('casa', 'house'), 0.94228242707854), (('la', 'house'), 0.02885878646072998)]\n",
      "---\n",
      "[(('verde', 'house'), 0.019525050381416956), (('casa', 'house'), 0.960949899237166), (('la', 'house'), 0.019525050381416956)]\n",
      "---\n",
      "[(('verde', 'house'), 0.01314630669060939), (('casa', 'house'), 0.9737073866187812), (('la', 'house'), 0.01314630669060939)]\n",
      "---\n",
      "[(('verde', 'house'), 0.008822580347590375), (('casa', 'house'), 0.9823548393048194), (('la', 'house'), 0.008822580347590375)]\n",
      "---\n"
     ]
    }
   ],
   "source": [
    "for i in range(10):\n",
    "    assigment_expected_values = calculate_expectation(english, spanish, translation_prob)\n",
    "    translation_prob = calculate_maximization(english, spanish, assigment_expected_values)\n",
    "    print([(i,j) for i,j in translation_prob.items() if i[1] == \"house\"])\n",
    "    print(\"---\")\n"
   ]
  },
  {
   "cell_type": "markdown",
   "metadata": {},
   "source": [
    "Wywołaj algorytm EM na poniższym korpusie."
   ]
  },
  {
   "cell_type": "code",
   "execution_count": 11,
   "metadata": {},
   "outputs": [],
   "source": [
    "english2 = [[\"the\",\"dog\"], [\"the\",\"house\"], [\"the\", \"green\", \"house\"]]\n",
    "polish = [[\"pies\"], [\"dom\"], [\"zielony\", \"dom\"]]"
   ]
  },
  {
   "cell_type": "code",
   "execution_count": 12,
   "metadata": {
    "deletable": false,
    "nbgrader": {
     "cell_type": "code",
     "checksum": "d7e69515106c187cdfce882609a23b6e",
     "grade": false,
     "grade_id": "cell-cff38f444b9c8d1a",
     "locked": false,
     "schema_version": 3,
     "solution": true,
     "task": false
    }
   },
   "outputs": [],
   "source": [
    "def translate(corp1, corp2, n=10):\n",
    "    translation_prob = initalize_translation_prob(corp1, corp2)\n",
    "    for i in range(n):\n",
    "        assigment_expected_values = calculate_expectation(corp1, corp2, translation_prob)\n",
    "        translation_prob = calculate_maximization(corp1, corp2, assigment_expected_values)\n",
    "    return translation_prob"
   ]
  },
  {
   "cell_type": "markdown",
   "metadata": {
    "deletable": false,
    "editable": false,
    "nbgrader": {
     "cell_type": "markdown",
     "checksum": "4755d83d4ecebe39866dccbb275fec90",
     "grade": false,
     "grade_id": "cell-9dfc99a37938134a",
     "locked": true,
     "points": 0,
     "schema_version": 3,
     "solution": false,
     "task": true
    }
   },
   "source": [
    "Sprawdź jak wyglądają prawdopodobieństwa tłumaczeń po 10 iteracjach."
   ]
  },
  {
   "cell_type": "code",
   "execution_count": 13,
   "metadata": {},
   "outputs": [
    {
     "data": {
      "text/plain": [
       "{('pies', 'the'): 0.3333333333333333,\n",
       " ('pies', 'dog'): 1.0,\n",
       " ('dom', 'the'): 0.6663411458333334,\n",
       " ('dom', 'house'): 0.99951171875,\n",
       " ('dom', 'green'): 0.5,\n",
       " ('zielony', 'the'): 0.0003255208333333333,\n",
       " ('zielony', 'green'): 0.5,\n",
       " ('zielony', 'house'): 0.00048828125}"
      ]
     },
     "execution_count": 13,
     "metadata": {},
     "output_type": "execute_result"
    }
   ],
   "source": [
    "translate(english2, polish, n=10)"
   ]
  },
  {
   "cell_type": "markdown",
   "metadata": {},
   "source": [
    "Sprawdź czy gdybyś dodał słówko `NULL` to algorytm nauczyłby się wiązać słówko `NULL` na `the`, które nie występuje w języku polskim?"
   ]
  },
  {
   "cell_type": "code",
   "execution_count": 14,
   "metadata": {
    "deletable": false,
    "nbgrader": {
     "cell_type": "code",
     "checksum": "916e8668bbff73c5896171de57b8e0f1",
     "grade": true,
     "grade_id": "cell-874a2c94ce1bd996",
     "locked": false,
     "points": 1,
     "schema_version": 3,
     "solution": true,
     "task": false
    }
   },
   "outputs": [],
   "source": [
    "english2 = [[\"the\",\"dog\"], [\"the\",\"house\"], [\"the\", \"green\", \"house\"]]\n",
    "polish_null = [[\"null\", \"pies\"], [\"null\", \"dom\"], [\"null\", \"zielony\", \"dom\"]]\n",
    "translation_prob = translate(english2, polish_null, n=10)"
   ]
  },
  {
   "cell_type": "code",
   "execution_count": 15,
   "metadata": {},
   "outputs": [
    {
     "data": {
      "text/plain": [
       "{('pies', 'the'): 3.5095620537396894e-05,\n",
       " ('pies', 'dog'): 0.5,\n",
       " ('null', 'the'): 0.9884935162981091,\n",
       " ('null', 'dog'): 0.5,\n",
       " ('dom', 'the'): 0.01146338484277804,\n",
       " ('dom', 'house'): 0.49983723958333337,\n",
       " ('null', 'house'): 0.49983723958333337,\n",
       " ('zielony', 'the'): 8.00323857550188e-06,\n",
       " ('zielony', 'green'): 0.3333333333333333,\n",
       " ('zielony', 'house'): 0.00032552083333333337,\n",
       " ('dom', 'green'): 0.3333333333333333,\n",
       " ('null', 'green'): 0.3333333333333333}"
      ]
     },
     "execution_count": 15,
     "metadata": {},
     "output_type": "execute_result"
    }
   ],
   "source": [
    "translation_prob"
   ]
  },
  {
   "cell_type": "markdown",
   "metadata": {},
   "source": [
    "Jeśli wywołałbyś EM dla pierwszego korpusu równoległego (zmienne `english` i `spanish`) i dołączył tokeny `NULL` to EM tłumaczy NULL jako \"casa\" i \"house\" jako \"casa\" z takimi samymi prawdopodobieństwami. Dlaczego?"
   ]
  },
  {
   "cell_type": "markdown",
   "metadata": {
    "deletable": false,
    "nbgrader": {
     "cell_type": "markdown",
     "checksum": "688634a67e83abb3398e068a602702b7",
     "grade": true,
     "grade_id": "cell-0982ba49d3a2f657",
     "locked": false,
     "points": 1,
     "schema_version": 3,
     "solution": true,
     "task": false
    }
   },
   "source": [
    "Zarówno \"casa\" jak i \"NULL\" będą obecne w każdym zdaniu z korpusu, więc nie ma sposobu, by wybrać między tymi tokenami i przypisać im konkretną wartość."
   ]
  }
 ],
 "metadata": {
  "kernelspec": {
   "display_name": "Python 3",
   "language": "python",
   "name": "python3"
  },
  "language_info": {
   "codemirror_mode": {
    "name": "ipython",
    "version": 3
   },
   "file_extension": ".py",
   "mimetype": "text/x-python",
   "name": "python",
   "nbconvert_exporter": "python",
   "pygments_lexer": "ipython3",
   "version": "3.7.3"
  }
 },
 "nbformat": 4,
 "nbformat_minor": 2
}
