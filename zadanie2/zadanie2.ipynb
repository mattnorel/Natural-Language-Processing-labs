{
 "cells": [
  {
   "cell_type": "markdown",
   "metadata": {},
   "source": [
    "# Inżynieria lingwistyczna\n",
    "Ten notebook jest oceniany półautomatycznie. Nie twórz ani nie usuwaj komórek - struktura notebooka musi zostać zachowana. Odpowiedź wypełnij tam gdzie jest na to wskazane miejsce - odpowiedzi w innych miejscach nie będą sprawdzane (nie są widoczne dla sprawdzającego w systemie).\n",
    "\n",
    "Make sure you fill in any place that says `YOUR CODE HERE` or \"YOUR ANSWER HERE\"."
   ]
  },
  {
   "cell_type": "markdown",
   "metadata": {},
   "source": [
    "---"
   ]
  },
  {
   "cell_type": "markdown",
   "metadata": {},
   "source": [
    "# Zadanie domowe 2"
   ]
  },
  {
   "cell_type": "code",
   "execution_count": 1,
   "metadata": {},
   "outputs": [],
   "source": [
    "import pandas as pd\n",
    "import numpy as np "
   ]
  },
  {
   "cell_type": "markdown",
   "metadata": {},
   "source": [
    "## Zadanie 1 - eksploracja przestrzeni zagnieżdżeń\n",
    "Wczytajmy do przestrzeni plik zagnieżdżeń, który należy pobrać ze strony:\n",
    "https://dl.fbaipublicfiles.com/fasttext/vectors-wiki/wiki.pl.vec Są to zagnieżdzenia dla języka polskiego uzyskane systemem fastText.\n",
    "\n",
    "Do przestrzeni wczytujemy tylko 100 tys. najczęstrzych słów, tak aby operacje przebiegały szybciej."
   ]
  },
  {
   "cell_type": "code",
   "execution_count": 34,
   "metadata": {
    "deletable": false,
    "editable": false,
    "nbgrader": {
     "cell_type": "code",
     "checksum": "ff72904e199199567cefa7ecc512bc5b",
     "grade": false,
     "grade_id": "cell-a4ed145fec4874e1",
     "locked": true,
     "schema_version": 3,
     "solution": false,
     "task": false
    }
   },
   "outputs": [],
   "source": [
    "import io\n",
    "def load_vectors(fname, limit = 100000):\n",
    "    fin = io.open(fname, 'r', encoding='utf-8', newline='\\n', errors='ignore')\n",
    "    n, d = map(int, fin.readline().split())\n",
    "    n = min(n,limit)\n",
    "    embeddings = np.empty((n,d), dtype = np.float)\n",
    "    words_idx = []\n",
    "    for i, line in enumerate(fin):\n",
    "        if i >= limit:\n",
    "            break\n",
    "        tokens = line.rstrip().split(' ')\n",
    "        words_idx.append(tokens[0])\n",
    "        embeddings[i] =  np.array(tokens[1:]).astype(np.float)\n",
    "    return words_idx, embeddings\n",
    "words_idx, embeddings = load_vectors('wiki.pl.vec')"
   ]
  },
  {
   "cell_type": "markdown",
   "metadata": {},
   "source": [
    "Poniższe zadania mają na celu poekserymentowanie z przestrzenią zagnieżdżeń, ale też zrozumienie stojącymi za nich operacji. Dozwolone jest korzystanie tylko z podstawowych operatorów Python i numpy (w szczególności zakaz dotyczy: sklearn, gensim, fasttext itd.)\n",
    "\n",
    "Jeśli potrzebujesz do dalszego przetwarzania przeprowadzenia jakichś normalizacji macierzy -- możesz wstępnie przetworzyć macierz zagnieżdzeń poniżej. Pamiętaj, że sprawdzarka będzie używała wywołań do `embeddings` (i `words_idx`) -- musisz nadpisać macierz zagnieżdzeń. To pole jest pomocnicze i nie podlega ocenie."
   ]
  },
  {
   "cell_type": "code",
   "execution_count": 35,
   "metadata": {
    "deletable": false,
    "nbgrader": {
     "cell_type": "code",
     "checksum": "bad4efac5cfe3b895e04c7d1d616878c",
     "grade": false,
     "grade_id": "cell-6fee4cb7a7fea5c4",
     "locked": false,
     "schema_version": 3,
     "solution": true,
     "task": false
    }
   },
   "outputs": [],
   "source": [
    "wrd_embedding = {w: embeddings[i] for i,w in enumerate(words_idx)}"
   ]
  },
  {
   "cell_type": "markdown",
   "metadata": {},
   "source": [
    "Zaimplementuj funkcję, która obliczy podobieństwo kosinusowe pomiędzy dwoma wyrazami."
   ]
  },
  {
   "cell_type": "code",
   "execution_count": 4,
   "metadata": {
    "deletable": false,
    "nbgrader": {
     "cell_type": "code",
     "checksum": "89e46295053248c56d68caf5a00e3a81",
     "grade": false,
     "grade_id": "cell-433776f5de68cf95",
     "locked": false,
     "schema_version": 3,
     "solution": true,
     "task": false
    }
   },
   "outputs": [],
   "source": [
    "def calc_sim(word_a, word_b, words_idx, embeddings):\n",
    "    emb_a, emb_b = wrd_embedding[word_a], wrd_embedding[word_b]\n",
    "    return np.dot(emb_a, emb_b)/((np.sum(emb_a**2)**.5)*(np.sum(emb_b**2)**.5))\n",
    "\n",
    "def calc_sim_embds(emb_a, emb_b, words_idx, embeddings):\n",
    "    return np.dot(emb_a, emb_b)/((np.sum(emb_a**2)**.5)*(np.sum(emb_b**2)**.5))"
   ]
  },
  {
   "cell_type": "code",
   "execution_count": 5,
   "metadata": {
    "deletable": false,
    "editable": false,
    "nbgrader": {
     "cell_type": "code",
     "checksum": "1a0436c8372e1c2bc61b92bd05a6c765",
     "grade": true,
     "grade_id": "cell-890341bd1cbcc5d2",
     "locked": true,
     "points": 1,
     "schema_version": 3,
     "solution": false,
     "task": false
    }
   },
   "outputs": [],
   "source": [
    "from nose.tools import assert_almost_equal\n",
    "assert_almost_equal(calc_sim(\"bieber\", \"rihanna\", words_idx, embeddings), calc_sim(\"rihanna\", \"bieber\", words_idx, embeddings))"
   ]
  },
  {
   "cell_type": "markdown",
   "metadata": {},
   "source": [
    "Policz podobieństwo pomiędzy wyrazem `bieber` a wyrazami:\n",
    "    - `rihanna`\n",
    "    - `piłsudski`\n",
    "    - `kanada`\n",
    "    - `polska`\n",
    "    - `piosenka`"
   ]
  },
  {
   "cell_type": "code",
   "execution_count": 6,
   "metadata": {},
   "outputs": [
    {
     "data": {
      "text/plain": [
       "0.524583248263655"
      ]
     },
     "execution_count": 6,
     "metadata": {},
     "output_type": "execute_result"
    }
   ],
   "source": [
    "calc_sim(\"bieber\", \"rihanna\", words_idx, embeddings)"
   ]
  },
  {
   "cell_type": "code",
   "execution_count": 7,
   "metadata": {
    "deletable": false,
    "nbgrader": {
     "cell_type": "code",
     "checksum": "5d0c5da4e71a95a4f3aacba9f9b4b664",
     "grade": false,
     "grade_id": "cell-3333712301dd0bbe",
     "locked": false,
     "schema_version": 3,
     "solution": true,
     "task": false
    }
   },
   "outputs": [
    {
     "name": "stdout",
     "output_type": "stream",
     "text": [
      "bieber - rihanna: 0.524583248263655\n",
      "bieber - piłsudski: 0.19303958051463557\n",
      "bieber - kanada: 0.20042742126487928\n",
      "bieber - polska: 0.12505934735679378\n",
      "bieber - piosenka: 0.28748713688583316\n"
     ]
    }
   ],
   "source": [
    "for wrd in ['rihanna', 'piłsudski','kanada','polska','piosenka']:\n",
    "    print(\"{} - {}: {}\".format('bieber',wrd, calc_sim(\"bieber\", wrd, words_idx, embeddings)))"
   ]
  },
  {
   "cell_type": "markdown",
   "metadata": {},
   "source": [
    "Zaimplementuj funkcję, która zwróci najbardziej podobne słowa (miara kosinusowa) do danego słowa `word`. W wyniku wypisz tylko `top` słów z najbliższymi zagnieżdżeniami, pomijając słowo `word`."
   ]
  },
  {
   "cell_type": "code",
   "execution_count": 8,
   "metadata": {
    "deletable": false,
    "nbgrader": {
     "cell_type": "code",
     "checksum": "d174e9429ec96be4232e58eb4683ffb8",
     "grade": false,
     "grade_id": "cell-e8417832104ee5eb",
     "locked": false,
     "schema_version": 3,
     "solution": true,
     "task": false
    }
   },
   "outputs": [],
   "source": [
    "def find_similar(word, words_idx, embedding_matrix, top=10):\n",
    "    similar_words = {}\n",
    "    for i, other_word in enumerate(words_idx):\n",
    "        if other_word!=word:\n",
    "            similar_words[other_word] = calc_sim(word, other_word, words_idx, embedding_matrix)\n",
    "    return sorted(similar_words.keys(), key=lambda x: similar_words[x], reverse=True)[:top]"
   ]
  },
  {
   "cell_type": "code",
   "execution_count": 9,
   "metadata": {
    "deletable": false,
    "editable": false,
    "nbgrader": {
     "cell_type": "code",
     "checksum": "ff37028a810bf8da732cfdb41cc309b7",
     "grade": true,
     "grade_id": "cell-84f4627b3ebe0906",
     "locked": true,
     "points": 2,
     "schema_version": 3,
     "solution": false,
     "task": false
    },
    "scrolled": true
   },
   "outputs": [],
   "source": [
    "assert len(find_similar(\"radość\", words_idx, embeddings)) == 10"
   ]
  },
  {
   "cell_type": "markdown",
   "metadata": {},
   "source": [
    "Znajdź najbardziej podobne słowa do kobieta, politechnika, mateusz, szczecin, niemcy, piłsudski"
   ]
  },
  {
   "cell_type": "code",
   "execution_count": 10,
   "metadata": {},
   "outputs": [
    {
     "data": {
      "text/plain": [
       "['kobietą',\n",
       " 'dziewczyna',\n",
       " 'mężczyzna',\n",
       " 'kobietę',\n",
       " 'dziewczynka',\n",
       " 'mężczyznę',\n",
       " 'staruszka',\n",
       " 'mężczyzną',\n",
       " 'kobiecie',\n",
       " 'mężczyzny']"
      ]
     },
     "execution_count": 10,
     "metadata": {},
     "output_type": "execute_result"
    }
   ],
   "source": [
    "find_similar(\"kobieta\", words_idx, embeddings)"
   ]
  },
  {
   "cell_type": "code",
   "execution_count": 37,
   "metadata": {
    "deletable": false,
    "nbgrader": {
     "cell_type": "code",
     "checksum": "00f26fb5c5ebdbd5a5dd006c892c9aba",
     "grade": false,
     "grade_id": "cell-9e2eaa4a951e17b4",
     "locked": false,
     "schema_version": 3,
     "solution": true,
     "task": false
    }
   },
   "outputs": [
    {
     "name": "stdout",
     "output_type": "stream",
     "text": [
      "kobieta :\n",
      "kobietą, dziewczyna, mężczyzna, kobietę, dziewczynka, mężczyznę, staruszka, mężczyzną, kobiecie, mężczyzny\n",
      "\n",
      "politechnika :\n",
      "politechniki, politechniką, politechnikę, politechniczny, politechnice, politechnicznej, politechnicznego, politechnicznym, inżynierska, elektrotechnika\n",
      "\n",
      "mateusz :\n",
      "łukasz, bartłomiej, bartosz, kacper, marcin, mateusza, tomasz, patryk, rafał, mateuszem\n",
      "\n",
      "szczecin :\n",
      "szczecinek, szczeciński, szczecinem, gryfino, szczecinie, stargard, szczecina, koszalin, szczecińska, świnoujście\n",
      "\n",
      "niemcy :\n",
      "niemieccy, naziści, alianci, okupanci, polacy, hitlerowcy, niemieckie, rosjanie, niemców, niemcom\n",
      "\n",
      "piłsudski :\n",
      "piłsudskim, piłsudskiego, piłsudskiemu, sosnkowski, mościcki, śmigły, józef, żeligowski, piłsudczyków, sosnkowskiego\n",
      "\n"
     ]
    }
   ],
   "source": [
    "for w in ['kobieta', 'politechnika', 'mateusz', 'szczecin', 'niemcy', 'piłsudski']:\n",
    "    print(w +' :')\n",
    "    print(', '.join(find_similar(w, words_idx, embeddings)), end='\\n\\n')"
   ]
  },
  {
   "cell_type": "markdown",
   "metadata": {},
   "source": [
    "Krótko skomentuj wyniki dla słowa `niemcy`. Które z powstałych analogii biorą się z semantycznego powiązania a które z semantycznego podobieństwa?"
   ]
  },
  {
   "cell_type": "markdown",
   "metadata": {
    "deletable": false,
    "nbgrader": {
     "cell_type": "code",
     "checksum": "c31c2929dc80543bebea431c05decbfd",
     "grade": true,
     "grade_id": "cell-f09fc185fd252182",
     "locked": false,
     "points": 1,
     "schema_version": 3,
     "solution": true,
     "task": false
    }
   },
   "source": [
    "Słowo `niemcy` otrzymały zarówno słowa związane z narodowością, jak i również związane z znaczeniem historycznym. Najprawdododobniej korpus języka, użyty do wytrenowania zagnieżdżeń, zawierał również zbiory traktujące o historii polski, w której to WWII pełni bardzo istotną rolę.\n",
    "\n",
    "Semantycznie słowo `niemcy` powiązane jest z takimi słowami jak 'naziści', 'okupanci', 'hitlerowcy', z którymi najprawdopodobniej w korpusie używane były zamiennie. Semantycznie podobne jest do słów 'alianci', 'polacy', 'rosjanie'."
   ]
  },
  {
   "cell_type": "markdown",
   "metadata": {},
   "source": [
    "Zaimplementuj funkcje szukającą brakującego elementu relacji ,,`word_a` jest do `word_a2` jak `word_b` jest do...''. Funkcja powinna zwrócić 10 najbardziej pasujących słow z pominięciem słów będących jej argumentami."
   ]
  },
  {
   "cell_type": "code",
   "execution_count": 12,
   "metadata": {
    "deletable": false,
    "nbgrader": {
     "cell_type": "code",
     "checksum": "0e6e16dac4cb376f4d53a9d755cd46dc",
     "grade": false,
     "grade_id": "cell-63d29c3e720be966",
     "locked": false,
     "schema_version": 3,
     "solution": true,
     "task": false
    }
   },
   "outputs": [],
   "source": [
    "def find_similar_pair(word_a, word_a2, word_b,  words_idx, matrix, top=10):\n",
    "    emb_a = wrd_embedding[word_a]\n",
    "    emb_a2 = wrd_embedding[word_a2]\n",
    "    emb_b = wrd_embedding[word_b]\n",
    "    nw_emb = emb_a2 - emb_a + emb_b\n",
    "    \n",
    "    similar_words = {}\n",
    "    for other_word in words_idx:\n",
    "        if other_word!= word_a and other_word!= word_a2 and other_word!= word_b:\n",
    "            similar_words[other_word] = calc_sim_embds(nw_emb, wrd_embedding[other_word], words_idx, matrix)\n",
    "    return sorted(similar_words.keys(), key=lambda x: similar_words[x], reverse=True)[:top]"
   ]
  },
  {
   "cell_type": "code",
   "execution_count": 13,
   "metadata": {
    "deletable": false,
    "editable": false,
    "nbgrader": {
     "cell_type": "code",
     "checksum": "7663a43e711a8e860bbc06d41b6ca904",
     "grade": true,
     "grade_id": "cell-0d5187c215c3d03c",
     "locked": true,
     "points": 2,
     "schema_version": 3,
     "solution": false,
     "task": false
    }
   },
   "outputs": [],
   "source": [
    "assert find_similar_pair( \"mężczyzna\", \"król\", \"kobieta\", words_idx, embeddings)[0] == \"królowa\""
   ]
  },
  {
   "cell_type": "markdown",
   "metadata": {},
   "source": [
    "Pieniądze są do profesora jak wiedza do..."
   ]
  },
  {
   "cell_type": "code",
   "execution_count": 14,
   "metadata": {
    "deletable": false,
    "nbgrader": {
     "cell_type": "code",
     "checksum": "96e68dff29fccbb7ee7cb889aeaaf45c",
     "grade": false,
     "grade_id": "cell-8f5621bb8ded7490",
     "locked": false,
     "schema_version": 3,
     "solution": true,
     "task": false
    },
    "scrolled": true
   },
   "outputs": [
    {
     "data": {
      "text/plain": [
       "['habilitowany',\n",
       " 'docent',\n",
       " 'wykładowca',\n",
       " 'profesorem',\n",
       " 'habilitacja',\n",
       " 'adiunkt',\n",
       " 'rektor',\n",
       " 'profesora',\n",
       " 'humanistycznych',\n",
       " 'naukowiec']"
      ]
     },
     "execution_count": 14,
     "metadata": {},
     "output_type": "execute_result"
    }
   ],
   "source": [
    "find_similar_pair( \"pieniądze\", \"profesor\", \"wiedza\", words_idx, embeddings)"
   ]
  },
  {
   "cell_type": "markdown",
   "metadata": {},
   "source": [
    "Mateusza jest do mateusz jak łukasza do ..."
   ]
  },
  {
   "cell_type": "code",
   "execution_count": 15,
   "metadata": {
    "deletable": false,
    "nbgrader": {
     "cell_type": "code",
     "checksum": "89ccdc6a4c7685a211811f0c6d5e796e",
     "grade": false,
     "grade_id": "cell-3215c64840cc460e",
     "locked": false,
     "schema_version": 3,
     "solution": true,
     "task": false
    }
   },
   "outputs": [
    {
     "data": {
      "text/plain": [
       "['łukasz',\n",
       " 'bartłomiej',\n",
       " 'bartosz',\n",
       " 'maciej',\n",
       " 'tomasz',\n",
       " 'rafał',\n",
       " 'patryk',\n",
       " 'marcin',\n",
       " 'michał',\n",
       " 'przemysław']"
      ]
     },
     "execution_count": 15,
     "metadata": {},
     "output_type": "execute_result"
    }
   ],
   "source": [
    "find_similar_pair( \"mateusza\", \"mateusz\", \"łukasza\", words_idx, embeddings)"
   ]
  },
  {
   "cell_type": "markdown",
   "metadata": {},
   "source": [
    "Warszawa jest do \"polska\" jak \"berlin\" do ..."
   ]
  },
  {
   "cell_type": "code",
   "execution_count": 16,
   "metadata": {
    "deletable": false,
    "nbgrader": {
     "cell_type": "code",
     "checksum": "2831d8f28423fd701364d67e72570994",
     "grade": false,
     "grade_id": "cell-8e4d868c692f267a",
     "locked": false,
     "schema_version": 3,
     "solution": true,
     "task": false
    }
   },
   "outputs": [
    {
     "data": {
      "text/plain": [
       "['niemiecka',\n",
       " 'berliner',\n",
       " 'wschodnioniemiecka',\n",
       " 'berlińska',\n",
       " 'deutschland',\n",
       " 'deutsche',\n",
       " 'brandenburg',\n",
       " 'berlinem',\n",
       " 'germany',\n",
       " 'niemcy']"
      ]
     },
     "execution_count": 16,
     "metadata": {},
     "output_type": "execute_result"
    }
   ],
   "source": [
    "find_similar_pair( \"warszawa\", \"polska\", \"berlin\", words_idx, embeddings)"
   ]
  },
  {
   "cell_type": "markdown",
   "metadata": {},
   "source": [
    "Zurich jest do ETH jak Poznań do ..."
   ]
  },
  {
   "cell_type": "code",
   "execution_count": 17,
   "metadata": {},
   "outputs": [
    {
     "data": {
      "text/plain": [
       "['„poznań',\n",
       " 'wrocław',\n",
       " 'poznania',\n",
       " 'poznańskie',\n",
       " 'uam',\n",
       " 'poznaniu',\n",
       " 'kraków',\n",
       " 'gniezno',\n",
       " 'poznańską',\n",
       " 'wlkp']"
      ]
     },
     "execution_count": 17,
     "metadata": {},
     "output_type": "execute_result"
    }
   ],
   "source": [
    "find_similar_pair( \"zurich\", \"eth\", \"poznań\", words_idx, embeddings)"
   ]
  },
  {
   "cell_type": "markdown",
   "metadata": {},
   "source": [
    "Niemcy są do Merkel jak Polska do ..."
   ]
  },
  {
   "cell_type": "code",
   "execution_count": 18,
   "metadata": {},
   "outputs": [
    {
     "data": {
      "text/plain": [
       "['kaczyńska',\n",
       " 'lewandowska',\n",
       " 'kwaśniewska',\n",
       " 'ekonomistka',\n",
       " 'lekarka',\n",
       " 'parlamentarzystka',\n",
       " 'marcinkiewicz',\n",
       " 'olszewska',\n",
       " 'bezpartyjna',\n",
       " 'dziennikarka']"
      ]
     },
     "execution_count": 18,
     "metadata": {},
     "output_type": "execute_result"
    }
   ],
   "source": [
    "find_similar_pair( \"niemcy\", \"merkel\", \"polska\", words_idx, embeddings)"
   ]
  },
  {
   "cell_type": "markdown",
   "metadata": {},
   "source": [
    "Na wektorach możemy wykonywać standardowe operacje algebry liniowej takie jak np. projekcja czyli rzutowanie danych na jakichś zbiór osi (więcej: notatki z algebry liniowej np. https://ocw.mit.edu/courses/mathematics/18-06sc-linear-algebra-fall-2011/least-squares-determinants-and-eigenvalues/projections-onto-subspaces/). W szczególności może to się przydać do zrzutowania słowa na przestrzeń w której pewny wybrany kierunek (wskazywany przez wektor) jest eliminowany.\n",
    "\n",
    "Do czego może to się przydać? Jeśli uruchomisz funkcję `find_similar` dla słowa ,,mateusza'' znajdziesz m.in. ,,łukasza'' ale także ,,ewangelia'', ,,ewangelisty'' i ,,apostoła''. Chcąc pominąc kontekst religijny tego słowa możesz zrzutować jego reprezentacje na przestrzeń bez wektora ,,ewangelia'' i poszukać jego najbliższych sąsiadów (którymi będą teraz po prostu imiona męskie). Zaimplementuj taką funkcję.\n"
   ]
  },
  {
   "cell_type": "code",
   "execution_count": 19,
   "metadata": {
    "deletable": false,
    "nbgrader": {
     "cell_type": "code",
     "checksum": "c635c05e6782ad6ef07a5ac3346f65c9",
     "grade": false,
     "grade_id": "cell-9c73750e7d423c6a",
     "locked": false,
     "schema_version": 3,
     "solution": true,
     "task": false
    },
    "scrolled": false
   },
   "outputs": [
    {
     "name": "stdout",
     "output_type": "stream",
     "text": [
      "Standardowe poszukiwanie: ['łukasza', 'ewangelii', 'ewangelisty', 'ewangelia', 'bartłomieja', 'ewangeliach', 'apostoła', 'mateusz', 'tymoteusza', 'jakuba']\n",
      "Poszukiwanie po projekcji: ['macieja', 'bartłomieja', 'marcina', 'łukasza', 'andrzeja', 'piotra', 'jakuba', 'antoniego', 'michała', 'tomasza']\n"
     ]
    }
   ],
   "source": [
    "def projection(vec_a, vec_b):\n",
    "    return vec_a*(vec_a.T.dot(vec_b))/vec_a.T.dot(vec_a)\n",
    "\n",
    "def find_similar_with_rejection(word, remove, words_idx, matrix, top=10):\n",
    "    \"\"\"\n",
    "    Działanie analogiczne do find_similar z dodatkowym parametrem remove, \n",
    "    który jest *listą* słów, które należy wyrzucić poprzez projekcję.\n",
    "    Dla remove=[] powinno się zwracać dokładnie to samo co find_similar\n",
    "    \"\"\"\n",
    "    emb = wrd_embedding[word].copy()\n",
    "    for r in remove:\n",
    "        emb = emb - projection(wrd_embedding[r], emb)\n",
    "        \n",
    "    similar_words = {}\n",
    "    for other_word in words_idx:\n",
    "        if other_word!= word:\n",
    "            othr_emb = wrd_embedding[other_word].copy()\n",
    "            similar_words[other_word] = calc_sim_embds(emb, othr_emb , words_idx, matrix)\n",
    "    return sorted(similar_words.keys(), key=lambda x: similar_words[x], reverse=True)[:top]\n",
    "    \n",
    "print (\"Standardowe poszukiwanie:\", find_similar_with_rejection(\"mateusza\",[] , words_idx, embeddings))\n",
    "print (\"Poszukiwanie po projekcji:\", find_similar_with_rejection(\"mateusza\",[\"ewangelia\"] , words_idx, embeddings))"
   ]
  },
  {
   "cell_type": "code",
   "execution_count": 20,
   "metadata": {
    "deletable": false,
    "editable": false,
    "nbgrader": {
     "cell_type": "code",
     "checksum": "9cf5c44bd1df54c1da4106b8830dd322",
     "grade": true,
     "grade_id": "cell-b647aedbe8f9db7b",
     "locked": true,
     "points": 3,
     "schema_version": 3,
     "solution": false,
     "task": false
    }
   },
   "outputs": [],
   "source": [
    "assert \"ewangelii\" in find_similar_with_rejection(\"mateusza\",[] , words_idx, embeddings)\n",
    "assert \"ewangelii\" not in find_similar_with_rejection(\"mateusza\",[\"ewangelia\"] , words_idx, embeddings)\n",
    "assert \"ewangelisty\" not in find_similar_with_rejection(\"mateusza\",[\"ewangelia\"] , words_idx, embeddings)\n"
   ]
  },
  {
   "cell_type": "markdown",
   "metadata": {},
   "source": [
    "Analogicznie słowo ,,java'' jest nie tylko nazwą języka programownia (https://pl.wikipedia.org/wiki/Java_(ujednoznacznienie)) -- jest np. nazwą geograficzną (indonezyjska wyspa koło Sumatry). Sprawdź jakie wyrazy są podobne do \"java\" oraz po odrzuceniu kierunku \"javascript\" (tj. kierunku związanego z językami programowania)."
   ]
  },
  {
   "cell_type": "code",
   "execution_count": 21,
   "metadata": {
    "deletable": false,
    "nbgrader": {
     "cell_type": "code",
     "checksum": "e732ddade5feede63d07547766bcf949",
     "grade": false,
     "grade_id": "cell-d9d015bfeb8e25f6",
     "locked": false,
     "schema_version": 3,
     "solution": true,
     "task": false
    }
   },
   "outputs": [
    {
     "name": "stdout",
     "output_type": "stream",
     "text": [
      "Dla słowa java najbardziej podobne słowa to:\n",
      " javascript, javy, c#, c++, programowania, implementacja, lisp, framework, api, programistyczne\n",
      "\n",
      "Po dokonaniu odrzucenia kierunku do słowa javascript:\n",
      " sumatra, tromp, krążowniki, indonezja, niszczycielami, penang, niszczyciele, krążowników, hmas, jawa\n",
      "\n"
     ]
    }
   ],
   "source": [
    "print(\"Dla słowa java najbardziej podobne słowa to:\\n\", \n",
    "      ', '.join(find_similar_with_rejection(\"java\",[] , words_idx, embeddings)), end='\\n\\n')\n",
    "print(\"Po dokonaniu odrzucenia kierunku do słowa javascript:\\n\",\n",
    "      ', '.join(find_similar_with_rejection(\"java\",['javascript'] , words_idx, embeddings)), end='\\n\\n')"
   ]
  },
  {
   "cell_type": "markdown",
   "metadata": {},
   "source": [
    "Spróbuj poekseprymentować samemu!"
   ]
  },
  {
   "cell_type": "code",
   "execution_count": 22,
   "metadata": {
    "deletable": false,
    "nbgrader": {
     "cell_type": "code",
     "checksum": "4a88f0a6d0571a66b40d04bc9cb8e65a",
     "grade": false,
     "grade_id": "cell-673e06a42de6bc26",
     "locked": false,
     "schema_version": 3,
     "solution": true,
     "task": false
    }
   },
   "outputs": [
    {
     "name": "stdout",
     "output_type": "stream",
     "text": [
      "Dla słowa java najbardziej podobne słowa to:\n",
      " „nauka, nauką, filozofia, etyka, teologia, nauki, naukach, edukacja, pedagogika, astrologia\n",
      "\n",
      "Po dokonaniu odrzucenia kierunku do słowa javascript:\n",
      " kappa, budokan, ninja, dolnym, wieloetniczną, aquarium, ino, prefekturze, aso, pomocniczego\n",
      "\n",
      "Interesujące\n"
     ]
    }
   ],
   "source": [
    "print(\"Dla słowa java najbardziej podobne słowa to:\\n\", \n",
    "      ', '.join(find_similar_with_rejection(\"nauka\",[] , words_idx, embeddings)), end='\\n\\n')\n",
    "print(\"Po dokonaniu odrzucenia kierunku do słowa javascript:\\n\",\n",
    "      ', '.join(find_similar_with_rejection(\"nauka\",['nauka'] , words_idx, embeddings)), end='\\n\\n')\n",
    "print(\"Interesujące\")"
   ]
  },
  {
   "cell_type": "markdown",
   "metadata": {},
   "source": [
    "Wykonanie projekcji w przestrzeni zagnieżdżeń może być jedną z prostych technik zwalczenia tzw. gender bias (http://wordbias.umiacs.umd.edu/) w reprezentacji słów. Okazuje się, że wykonanie projekcji macierzy zagnieżdżeń na przestrzeń w której ,,brakuje kierunku he-she'' może być bardzo prostą techniką zredukowania tego typu obciążenia."
   ]
  },
  {
   "cell_type": "markdown",
   "metadata": {},
   "source": [
    "## Zadanie 2 - zagnieżdżenia dokumentów\n",
    "W tym ćwiczeniu powócimy do zbioru tweetów, który analizowaliśmy w poprzednim dokumencie."
   ]
  },
  {
   "cell_type": "code",
   "execution_count": 23,
   "metadata": {},
   "outputs": [
    {
     "name": "stdout",
     "output_type": "stream",
     "text": [
      "Reading data set ['tweets.txt']\n"
     ]
    }
   ],
   "source": [
    "from helpers import DataSet\n",
    "training_set = DataSet(['tweets.txt'])"
   ]
  },
  {
   "cell_type": "code",
   "execution_count": null,
   "metadata": {},
   "outputs": [],
   "source": [
    "for i in training_set.tweets:\n",
    "    print(i.text)\n",
    "    print(i.tokens)\n",
    "    print(i.clazz)\n",
    "    break"
   ]
  },
  {
   "cell_type": "markdown",
   "metadata": {},
   "source": [
    "Tym razem do zbudowania reprezentacji będziemy używać narzędzie Universal Sentence Encoder stworzone przez Googla na bazie głębokiej sieci uśredniającej (i architektur rekurencyjnych). Poniższy kod pokazuje sposób użycia tego narzędzia. \n",
    "Kod spokojnie można wywoływać na CPU -- choć ściąganie modelu trochę może potrwać."
   ]
  },
  {
   "cell_type": "code",
   "execution_count": 28,
   "metadata": {
    "scrolled": true
   },
   "outputs": [
    {
     "name": "stdout",
     "output_type": "stream",
     "text": [
      "tf.Tensor(\n",
      "[[-0.03133016 -0.06338634 -0.01607501 ... -0.0324278  -0.04575741\n",
      "   0.05370457]\n",
      " [ 0.05080863 -0.0165243   0.01573782 ...  0.00976661  0.03170121\n",
      "   0.01788118]], shape=(2, 512), dtype=float32)\n"
     ]
    }
   ],
   "source": [
    "import tensorflow as tf\n",
    "import tensorflow_hub as hub\n",
    "embed = hub.load(\"https://tfhub.dev/google/universal-sentence-encoder/4\")\n",
    "embeddings = embed([\n",
    "    \"The quick brown fox jumps over the lazy dog.\",\n",
    "    \"I am a sentence for which I would like to get its embedding\"])\n",
    "print (embeddings)"
   ]
  },
  {
   "cell_type": "markdown",
   "metadata": {},
   "source": [
    "Wykorzystując reprezetnację USE wytrenuj wybrany klasyfikator z pakietu `sklearn` i zweryfikuj jego jakość działania."
   ]
  },
  {
   "cell_type": "code",
   "execution_count": 29,
   "metadata": {
    "deletable": false,
    "nbgrader": {
     "cell_type": "code",
     "checksum": "8ec9460c36ab328559c89319de53da65",
     "grade": false,
     "grade_id": "cell-26c33314c55313ac",
     "locked": false,
     "schema_version": 3,
     "solution": true,
     "task": false
    },
    "scrolled": true
   },
   "outputs": [
    {
     "name": "stdout",
     "output_type": "stream",
     "text": [
      "Expected:\n",
      "Precision: 0.6326400755343269\n",
      "Recall: 0.498728654476767\n",
      "F-score: 0.5057007110095565\n",
      "Accuracy: 0.6328754578754578\n"
     ]
    }
   ],
   "source": [
    "from sklearn.feature_extraction import FeatureHasher\n",
    "from sklearn.linear_model import SGDClassifier\n",
    "from sklearn.metrics import precision_recall_fscore_support, accuracy_score\n",
    "from sklearn.model_selection import train_test_split\n",
    "\n",
    "target_val = {'negative': -1, 'neutral': 0, 'positive':1}\n",
    "\n",
    "def embdd_cls(training_set):\n",
    "    X_train, X_test, y_train, y_test = train_test_split(\n",
    "            [sample.text for sample in training_set.tweets],\n",
    "            [target_val[sample.clazz] for sample in training_set.tweets],\n",
    "            test_size=.2, random_state=1337)\n",
    "\n",
    "    X_train_embdd = embed(X_train)\n",
    "    X_test_embdd = embed(X_test)\n",
    "\n",
    "    clf = SGDClassifier(loss='hinge', penalty='l2', alpha=1e-3, n_iter_no_change=30)\n",
    "    clf.fit(X_train_embdd, y_train)\n",
    "\n",
    "    pred = clf.predict(X_test_embdd)\n",
    "\n",
    "    precision, recall, fscore, support = precision_recall_fscore_support(y_test, pred, average='macro')\n",
    "    acc = accuracy_score(y_test, pred)\n",
    "    \n",
    "    return precision, recall, fscore, acc\n",
    "\n",
    "\n",
    "data = [embdd_cls(training_set) for n_features in range(10)]\n",
    "precision = [e[0] for e in data]\n",
    "recall = [e[1] for e in data]\n",
    "fscore = [e[2] for e in data]\n",
    "acc = [e[3] for e in data]\n",
    "print(\"\"\"Expected:\n",
    "Precision: {}\n",
    "Recall: {}\n",
    "F-score: {}\n",
    "Accuracy: {}\"\"\".format(np.mean(precision), np.mean(recall), np.mean(fscore), np.mean(acc)))"
   ]
  },
  {
   "cell_type": "markdown",
   "metadata": {},
   "source": [
    "Skomentuj wyniki i odnieś je do wyników z poprzedniego zadania domowego. Na ile użycie reprezentacji rozproszonych pozwoliło na poprawę wyników?"
   ]
  },
  {
   "cell_type": "markdown",
   "metadata": {
    "deletable": false,
    "nbgrader": {
     "cell_type": "code",
     "checksum": "635819ecfcec9e909b5f4b2261ea14a5",
     "grade": true,
     "grade_id": "cell-e08f7b8feff88383",
     "locked": false,
     "points": 3,
     "schema_version": 3,
     "solution": true,
     "task": false
    }
   },
   "source": [
    "Podejście USE pozwoliło uzyskać lepszy `accuracy` i `precision` niż dwie metody z poprzedniego zadania. Porównanie wyników odbyło się dla takiego samego parametru `alpha`, ale eksperymenty pokazały, że dostrojenie tego parametru pozwala na osiągnięcie jeszcze lepszych wyników. Mimo tego, że pojedyncza próbka reprezentowana jest przez zaledwie 512 cech, forma ta dużą siłę wyrazu, jako że powstała na drodze modelowania języka metodami automatycznymi, potrafiącymi z danych wyciągnąć wiedzę o tym, jak silnie poszczególne koncepty  są w języku i używa dostępnej, niskowymiarowej, reprezentacji w sposób bardziej optymalny niż pozostałe metody."
   ]
  },
  {
   "cell_type": "markdown",
   "metadata": {},
   "source": [
    "# Zadanie 3 - konstruowanie zagnieżdżeń\n",
    "W tym ćwiczeniu kontynuujemy pracę z tweetami, ale pomijamy całkowicie ich klasy. Zbiór tweetów potraktujemy jako korpus do nauczenia zagnieżdżeń słów przy pomocy macierzy PMI.\n",
    "- Wypełnij macierz kontekst - dokument przy użyciu symetrycznego okna o promieniu 4 (po 4 słowa w każdą stronę)\n",
    "- Możesz ograniczyć słownictwo do 10K słów\n",
    "- Przekształć macierz w macierz PPMI\n",
    "- Stwórz zagnieżdżenia wykorzystując dekompozycję SVD do wybranej wymiarowości $d$ (ze względu na koszt obliczeniowy może to być mała wymiarowość np. $d=10$)"
   ]
  },
  {
   "cell_type": "code",
   "execution_count": 30,
   "metadata": {
    "deletable": false,
    "nbgrader": {
     "cell_type": "code",
     "checksum": "d780996410f05351b8dc57e50531c78d",
     "grade": true,
     "grade_id": "cell-dc2433e668962e28",
     "locked": false,
     "points": 7,
     "schema_version": 3,
     "solution": true,
     "task": false
    }
   },
   "outputs": [
    {
     "name": "stderr",
     "output_type": "stream",
     "text": [
      "/home/imegirin/anaconda3/lib/python3.7/site-packages/ipykernel_launcher.py:37: RuntimeWarning: divide by zero encountered in log2\n"
     ]
    },
    {
     "data": {
      "text/plain": [
       "(16229, 10)"
      ]
     },
     "execution_count": 30,
     "metadata": {},
     "output_type": "execute_result"
    }
   ],
   "source": [
    "from sklearn.decomposition import TruncatedSVD\n",
    "wrd_ctr = {}\n",
    "unique_words = []\n",
    "corpus = []\n",
    "ctxt_ctr = 0\n",
    "ctr = 0\n",
    "for i in training_set.tweets:\n",
    "    corpus.append(np.array(i.tokens))\n",
    "    for t in i.tokens:\n",
    "        ctr += 1\n",
    "        if wrd_ctr.get(t) is not None:\n",
    "            wrd_ctr[t] += 1\n",
    "        else:\n",
    "            wrd_ctr[t] = 1\n",
    "            unique_words.append(t)\n",
    "            \n",
    "wrd_idx = dict(zip(unique_words, range(len(unique_words))))\n",
    "            \n",
    "matrix = np.zeros([len(unique_words)]*2)\n",
    "\n",
    "def crawling_window(tokens, radius=4):\n",
    "    ctxt_len = 0\n",
    "    for i in range(len(tokens)):\n",
    "        ctxt = tokens[max(0,i-radius):i] + tokens[(i+1):min(i+1,len(tokens))]\n",
    "        ctxt_len+=len(ctxt)\n",
    "        for c in ctxt:\n",
    "            matrix[wrd_idx[tokens[i]]][wrd_idx[c]]+=1\n",
    "    return ctxt_len\n",
    "    \n",
    "for i in training_set.tweets:\n",
    "    ctxt_ctr+=crawling_window(i.tokens)\n",
    "    \n",
    "matrix = matrix/ctxt_ctr\n",
    "\n",
    "freq_vec = np.array([list([wrd_ctr[wrd] for wrd, _ in wrd_idx.items()])])/ctr\n",
    "matrix = matrix/(freq_vec*freq_vec.T)\n",
    "matrix = np.log2(matrix)\n",
    "matrix[matrix<0]=0\n",
    "\n",
    "svd = TruncatedSVD(n_components=10, n_iter=17, random_state=47)\n",
    "embedds = svd.fit_transform(matrix)\n",
    "embedds.shape"
   ]
  },
  {
   "cell_type": "markdown",
   "metadata": {},
   "source": [
    "Przetestuj działanie Twoich zagnieżdżeń wykorzystując funkcję `find_similar` na wybranych słowach."
   ]
  },
  {
   "cell_type": "code",
   "execution_count": 31,
   "metadata": {
    "deletable": false,
    "nbgrader": {
     "cell_type": "code",
     "checksum": "ccb11abbddd43b64c364aea20584f1dd",
     "grade": true,
     "grade_id": "cell-f6fa13a67093698a",
     "locked": false,
     "points": 1,
     "schema_version": 3,
     "solution": true,
     "task": false
    }
   },
   "outputs": [
    {
     "name": "stdout",
     "output_type": "stream",
     "text": [
      "Linux:\n",
      "['universal', 'attempting', 'reinstall', 'lasting', 'capri', '^kw', 'worried', 'operating', 'playlist', '#windows10']\n",
      "\n",
      "Market:\n"
     ]
    },
    {
     "name": "stderr",
     "output_type": "stream",
     "text": [
      "/home/imegirin/anaconda3/lib/python3.7/site-packages/ipykernel_launcher.py:5: RuntimeWarning: invalid value encountered in double_scalars\n",
      "  \"\"\"\n"
     ]
    },
    {
     "name": "stdout",
     "output_type": "stream",
     "text": [
      "['stadium', 'main', 'adrian', '#mfclive', 'also', 'meetup', 'drive', 'news', ':p', 'era']\n",
      "\n"
     ]
    }
   ],
   "source": [
    "wrd_embedding= {wrd: embedds[i] for wrd, i in wrd_idx.items()}\n",
    "\n",
    "def calc_sim(word_a, word_b, words_idx, embeddings):\n",
    "    emb_a, emb_b = wrd_embedding[word_a], wrd_embedding[word_b]\n",
    "    return np.dot(emb_a, emb_b)/((np.sum(emb_a**2)**.5)*(np.sum(emb_b**2)**.5))\n",
    "\n",
    "def find_similar(word, words_idx, embedding_matrix, top=10):\n",
    "    similar_words = {}\n",
    "    for other_word in wrd_embedding.keys():\n",
    "        if other_word!=word:\n",
    "            similar_words[other_word] = calc_sim(word, other_word, words_idx, embedding_matrix)\n",
    "    return sorted(similar_words.keys(), key=lambda x: similar_words[x], reverse=True)[:top]\n",
    "\n",
    "print(\"Linux:\")\n",
    "print(find_similar(\"linux\", words_idx, embedds), end=\"\\n\\n\")\n",
    "print(\"Market:\")\n",
    "print(find_similar(\"market\", words_idx, embedds), end=\"\\n\\n\")"
   ]
  }
 ],
 "metadata": {
  "kernelspec": {
   "display_name": "Python 3",
   "language": "python",
   "name": "python3"
  },
  "language_info": {
   "codemirror_mode": {
    "name": "ipython",
    "version": 3
   },
   "file_extension": ".py",
   "mimetype": "text/x-python",
   "name": "python",
   "nbconvert_exporter": "python",
   "pygments_lexer": "ipython3",
   "version": "3.7.3"
  }
 },
 "nbformat": 4,
 "nbformat_minor": 2
}
