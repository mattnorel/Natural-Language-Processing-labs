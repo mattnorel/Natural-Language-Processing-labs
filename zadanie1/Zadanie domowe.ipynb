{
 "cells": [
  {
   "cell_type": "markdown",
   "metadata": {},
   "source": [
    "# Inżynieria lingwistyczna\n",
    "Ten notebook jest oceniany półautomatycznie. Nie twórz ani nie usuwaj komórek - struktura notebooka musi zostać zachowana. Odpowiedź wypełnij tam gdzie jest na to wskazane miejsce - odpowiedzi w innych miejscach nie będą sprawdzane (nie są widoczne dla sprawdzającego w systemie).\n",
    "\n",
    "Make sure you fill in any place that says `YOUR CODE HERE` or \"YOUR ANSWER HERE\"."
   ]
  },
  {
   "cell_type": "markdown",
   "metadata": {},
   "source": [
    "---"
   ]
  },
  {
   "cell_type": "markdown",
   "metadata": {},
   "source": [
    "# Zadanie 1 - tokenizacja (12 pkt)\n",
    "\n",
    "Jedną z nowoczesnych technik tokenizacji jest BPE - byte-pair encoding [1]. Technika ta polega na podzielenie słów na częste podsłowa (morfemy). W przeciwieństwie do podejść lingwistycznych, wymagających reguł tworzenia morfemów, BPE wyznacza je automatycznie poprzez wyznaczenie najczęstszych przylegających do siebie sekwencji znaków które występują obok siebie.\n",
    "\n",
    "Algorytm przebiega w następujących krokach.\n",
    "1. Podziel wszystkie słowa na symbole (początkowo pojedyncze znaki)\n",
    "2. Wyznacz najczęściej występującą obok siebie parę symboli \n",
    "3. Stwórz nowy symbol będący konkatenacją dwóch najczęstszych symboli.\n",
    "\n",
    "Uwaga 1: każde słowo zakończone jest specjalnym symbolem końca wyrazu.\n",
    "\n",
    "Uwaga 2: tworzenie nowego symbolu nie powoduje usuniecie starego tj. zawsze jednym z możliwych symboli jest pojedynczy znak, ale jeśli można to stosujemy symbol dłuższy.\n",
    "\n",
    "Przykład: korpus w którym występuje ,,ala'' 5 razy i ,,mama 10 razy''\n",
    "1. Dzielimy słowa na symbole ,,a l a END'' ,,m a m a END''  gdzie END jest symbolem końca wyrazu.\n",
    "2. Najczęstsza para obok siebie to ,,m a'' (20) razy\n",
    "3. Nowy symbol ,,ma''\n",
    "4. Nowy podział ,,a l a END'' ,,ma ma END''\n",
    "5. Najczęstsza para ,,ma ma'' (10) razy\n",
    "6. Nowy symbol ,,mama''\n",
    "7. Nowy podział ,,a l a END'' ,,mama END''\n",
    "8. itd.\n",
    "\n",
    "W pliku ,,brown_clusters.tsv'' pierwsza kolumna to identyfikator skupienia (nie używamy w tym zadaniu), druga kolumna to wyrazy, a trzecia to ich liczności w pewnym korpusie tweetów. Zaimplementuj technike BPE na tych słowach.\n",
    "\n",
    "Zaimplementuj algorytm BPE wykonujący `number_of_iterations` iteracji (łączeń symboli).\n",
    "\n",
    "[1] Sennrich, R., Haddow, B., and Birch, A. (2016). Neural machine translation of rare words with subword units. In ACL 2016."
   ]
  },
  {
   "cell_type": "code",
   "execution_count": 1,
   "metadata": {
    "deletable": false,
    "nbgrader": {
     "cell_type": "code",
     "checksum": "1ff3b90528fdb50de90c5c946c157e21",
     "grade": false,
     "grade_id": "cell-93d78a28d4e25cbc",
     "locked": false,
     "schema_version": 3,
     "solution": true,
     "task": false
    }
   },
   "outputs": [],
   "source": [
    "import pandas as pd\n",
    "import numpy as np\n",
    "brown_df = pd.read_csv('brown_clusters.tsv', sep='\\t', header=0, names=['cluster', 'word', 'count'])\n",
    "\n",
    "number_of_iterations = 10\n",
    "def preform_bpe(brown_df, number_of_iterations, shout=False):\n",
    "    \"\"\"\n",
    "    Funckcja przyjmuje ramkę w formacie analogicznym do obiektu brown_df (wczytany wyżej)\n",
    "     oraz liczbę iteracji.\n",
    "    Wyjściem funkcji powinna być lista słów z poszczególnymi tokenami/symbolami oddzielonymi spacją.\n",
    "    Za znak końca wyrazu przyjmij END. \n",
    "    \"\"\"\n",
    "    data = [(list(row[0]) + ['END'], row[1]) for _,row in brown_df.dropna()[['word', 'count']].iterrows()]  \n",
    "\n",
    "    for itr in range(number_of_iterations):\n",
    "        counted_pairs = {}\n",
    "        for i in range(len(data)):\n",
    "            wrd, cnt = data[i]\n",
    "            for pair in list(zip(wrd, wrd[1:])):\n",
    "                counted_pairs[pair] = counted_pairs[pair] + 1*cnt if counted_pairs.get(pair) is not None \\\n",
    "                        else 1*cnt\n",
    "        best_pair, _ = max(counted_pairs.items(), key=lambda x: x[1])\n",
    "        if shout:\n",
    "            print(best_pair)\n",
    "        for i in range(len(data)):\n",
    "            wrd, cnt = data[i]\n",
    "            new_wrd = []\n",
    "            e = 0\n",
    "            shifted = list(zip(wrd, wrd[1:]))\n",
    "            while e<len(shifted):\n",
    "                if shifted[e]==best_pair:\n",
    "                    new_wrd = new_wrd + [''.join([shifted[e][0], shifted[e][1]])]\n",
    "                    if e==len(shifted)-2:\n",
    "                        new_wrd.append(shifted[e+1][1])\n",
    "                    e+=2\n",
    "                elif e!=len(shifted)-1:\n",
    "                    new_wrd = new_wrd + [shifted[e][0]]\n",
    "                    e+=1\n",
    "                else:\n",
    "                    new_wrd = new_wrd + [shifted[e][0]] + [shifted[e][1]]\n",
    "                    e+=1\n",
    "\n",
    "            data[i] = (new_wrd, cnt)\n",
    "        if itr==number_of_iterations-1:\n",
    "            return [' '.join(e[0]) for e in data]\n",
    "            "
   ]
  },
  {
   "cell_type": "markdown",
   "metadata": {},
   "source": [
    "Test implementacji:"
   ]
  },
  {
   "cell_type": "code",
   "execution_count": 2,
   "metadata": {
    "deletable": false,
    "editable": false,
    "nbgrader": {
     "cell_type": "code",
     "checksum": "dfff70f711bf389f0f1cd969e7c3a413",
     "grade": true,
     "grade_id": "cell-7e952fa8dcd136fe",
     "locked": true,
     "points": 10,
     "schema_version": 3,
     "solution": false,
     "task": false
    }
   },
   "outputs": [],
   "source": [
    "from nose.tools import assert_list_equal\n",
    "data = {'cluster': range(2), 'word':['ala', 'mama'], 'count': [5,10]}\n",
    "df = pd.DataFrame (data, columns = ['cluster', 'word', 'count'])\n",
    "vocab = preform_bpe(df, 1)\n",
    "assert_list_equal(vocab, ['a l a END', 'ma ma END'])"
   ]
  },
  {
   "cell_type": "markdown",
   "metadata": {},
   "source": [
    "Spraw aby Twoja implementacja wypisywała kolejne łączone ze sobą symbole i uruchom Twoją funkcję na np. 50 iteracji, obserwując jakie tokeny są tworzone."
   ]
  },
  {
   "cell_type": "code",
   "execution_count": 3,
   "metadata": {
    "scrolled": false
   },
   "outputs": [
    {
     "name": "stdout",
     "output_type": "stream",
     "text": [
      "('e', 'END')\n",
      "('t', 'END')\n",
      "('s', 'END')\n",
      "('i', 'n')\n",
      "('t', 'h')\n",
      "('d', 'END')\n",
      "('y', 'END')\n",
      "('.', 'END')\n",
      "('o', 'END')\n",
      "('r', 'END')\n",
      "('>', 'END')\n",
      "('a', 'n')\n",
      "('o', 'n')\n",
      "('o', 'u')\n",
      "('g', 'END')\n",
      "('a', 'END')\n",
      "('l', 'END')\n",
      "('in', 'gEND')\n",
      "('<', '@')\n",
      "('<@', 'M')\n",
      "('<@M', 'E')\n",
      "('<@ME', 'N')\n",
      "('<@MEN', 'T')\n",
      "('<@MENT', 'I')\n",
      "('<@MENTI', 'O')\n",
      "('<@MENTIO', 'N')\n",
      "('<@MENTION', '>END')\n",
      "('r', 'e')\n",
      "('i', 'END')\n",
      "('th', 'eEND')\n",
      "('e', 'n')\n",
      "('o', 'm')\n",
      "('t', 'oEND')\n",
      "(',', 'END')\n",
      "('!', 'END')\n",
      "('e', 'r')\n",
      "('h', 'a')\n",
      "('e', 'rEND')\n",
      "('i', 't')\n",
      "(':', 'END')\n",
      "('y', 'ou')\n",
      "('a', 'r')\n",
      "('a', 'l')\n",
      "('o', 'r')\n",
      "('o', 'w')\n",
      "('.', '.END')\n",
      "('s', 't')\n",
      "('k', 'END')\n",
      "('i', 'sEND')\n",
      "('f', 'END')\n"
     ]
    }
   ],
   "source": [
    "_ = preform_bpe(brown_df, 50, True)"
   ]
  },
  {
   "cell_type": "markdown",
   "metadata": {
    "deletable": false,
    "editable": false,
    "nbgrader": {
     "cell_type": "markdown",
     "checksum": "9888b25499797c4fb0fd4f13646b0c3c",
     "grade": false,
     "grade_id": "cell-7d1e49878db56df4",
     "locked": true,
     "points": 0,
     "schema_version": 3,
     "solution": false,
     "task": true
    }
   },
   "source": [
    "- Jakie angielskie słowo jako pierwsze dostało swój własny token?"
   ]
  },
  {
   "cell_type": "markdown",
   "metadata": {
    "deletable": false,
    "nbgrader": {
     "cell_type": "markdown",
     "checksum": "df4c7b8b5aa2b077eaa2d42429797139",
     "grade": true,
     "grade_id": "cell-acd48c77e2c1bcec",
     "locked": false,
     "points": 1,
     "schema_version": 3,
     "solution": true,
     "task": false
    }
   },
   "source": [
    "Pierwszymi słowami z języka angielskiego, które otrzymały swój token są `a`, `the` (zakładając, że słowo musi być zakończone symbolem `END`). Przed słowem `the` swój token otrzymuje wyrażenie `<@MENTION>`, ale nie jest to słowo z języka angielskiego."
   ]
  },
  {
   "cell_type": "markdown",
   "metadata": {
    "deletable": false,
    "editable": false,
    "nbgrader": {
     "cell_type": "markdown",
     "checksum": "cd51e6fc0cd1d3b4d8b9e9a2fa1b0316",
     "grade": false,
     "grade_id": "cell-df60f5e5c6fe4ca0",
     "locked": true,
     "points": 0,
     "schema_version": 3,
     "solution": false,
     "task": true
    }
   },
   "source": [
    "- Jakie są zalety korzystania z tokenizacji BPE w kontekście tworzenia reprezentacji (problem OOV, odnieś się do  k-gramów i n-gramów)?"
   ]
  },
  {
   "cell_type": "markdown",
   "metadata": {
    "deletable": false,
    "nbgrader": {
     "cell_type": "markdown",
     "checksum": "64306e36b58f1eee12c8bb339123e105",
     "grade": true,
     "grade_id": "cell-006ef6fd3e397206",
     "locked": false,
     "points": 1,
     "schema_version": 3,
     "solution": true,
     "task": false
    }
   },
   "source": [
    "Tokenizacja BPE jest bardzo elastyczna dzięki temu, że tokeny, które przygotowuje mogą zawierać całe słowa oraz wszystkie podciągi znaków składające się na te słowa. Część z tych podciągów to morfemy. Dzieki temu, że w większości języków morfemy pełnią dużą rolę w przenoszeniu informacji, można się spodziewać, że w jakimś stopniu będą one wystarczające do wyciągnięcia wiedzy i modelowania języka.\n",
    "Tokenizacja BPE dobrze radzi sobie z problemem OOV. Przetworzenie dużego korpusu powinno wystarczyć do tego, by znaleźć takie zbitki znaków, które pozwolą na działanie na słowach spoza słownika, nawet jeśli działania te byłyby niepoprawne z punktu widzenia prawdziwego modelu języka.\n",
    "Można sobie wyobrazić implementację BPE, która wykracza poza pojedyncze słowa i zaczyna tworzyć tokeny dla części lub całych wyrazów, przyjmując cechy zarówno k-gramów jak i n-gramów jednocześnie. Jednak takie podejście najprawdopodobniej zakończy się bardzo dużym modelem języka, który może okazać się niepraktyczny w rzeczywistych zastosowaniach."
   ]
  },
  {
   "cell_type": "markdown",
   "metadata": {},
   "source": [
    "# Zadanie 2 - klasyfikacja (15 pkt)"
   ]
  },
  {
   "cell_type": "markdown",
   "metadata": {},
   "source": [
    "Poniższy kod powinien wczytać i ztokenizować zbiór danych dot. analizy wydźwięku. Jeśli nie masz biblioteki `nltk` musisz ją zainstalować."
   ]
  },
  {
   "cell_type": "code",
   "execution_count": 4,
   "metadata": {},
   "outputs": [
    {
     "name": "stdout",
     "output_type": "stream",
     "text": [
      "Reading data set ['tweets.txt']\n"
     ]
    }
   ],
   "source": [
    "from helpers import DataSet\n",
    "training_set = DataSet(['tweets.txt'])"
   ]
  },
  {
   "cell_type": "markdown",
   "metadata": {},
   "source": [
    "Poniżej znajdziesz przykład odczytu jednego tweeta z obiektu DataSet"
   ]
  },
  {
   "cell_type": "code",
   "execution_count": 5,
   "metadata": {},
   "outputs": [
    {
     "name": "stdout",
     "output_type": "stream",
     "text": [
      "dear @Microsoft the newOoffice for Mac is great and all, but no Lync update? C'mon.\n",
      "['dear', '@microsoft', 'the', 'newooffice', 'for', 'mac', 'is', 'great', 'and', 'all', ',', 'but', 'no', 'lync', 'update', '?', \"c'mon\", '.']\n",
      "negative\n"
     ]
    }
   ],
   "source": [
    "for i in training_set.tweets:\n",
    "    print(i.text)\n",
    "    print(i.tokens)\n",
    "    print(i.clazz)\n",
    "    break"
   ]
  },
  {
   "cell_type": "markdown",
   "metadata": {},
   "source": [
    "Systemy IL często pracują z bardzo dużą liczbą cech, które są rzadkie np. cechy Bag-Of-Words, cechy n-gramowe itd. Powoduje to że klasyczna macierz przykłady uczące na cechy rośnie do bardzo dużych rozmiarów nawet dla małych zbiorów uczących (w sensie liczby przykładów). Ponadto samo przechowywanie w pamięci słownika mapującego konkretne słowa/n-gramy na indeksy kolumn macierzy może być bardzo kosztowne pamięciowo przy dużych rozmiarach słownika.\n",
    "\n",
    "Istnieje jednak technika, która pozwala nam na ominięcie tej przeszkody: haszowanie cech. Opis tej techniki znajdziesz na stronie:  https://en.wikipedia.org/wiki/Feature_hashing Jest ona też implementowana w obiekcie `sklearn.feature_extraction.FeatureHasher`. Zapoznaj się z opisem techniki i wykonaj poniższe polecenia.\n",
    "\n",
    "- Wykorzystując haszowanie cech wytrenuj wybrany klasyfikator na zbiorze uczącym dla cech Bag-of-words (możesz też spróbować cechy n-gramowe). Możesz wykorzystać gotową tokenizację we właściwości `.tokens`."
   ]
  },
  {
   "cell_type": "code",
   "execution_count": 6,
   "metadata": {
    "deletable": false,
    "nbgrader": {
     "cell_type": "code",
     "checksum": "ac05ad71ee90b1c800030849c5321cb7",
     "grade": true,
     "grade_id": "cell-f6cfe39258fbec51",
     "locked": false,
     "points": 5,
     "schema_version": 3,
     "solution": true,
     "task": false
    }
   },
   "outputs": [],
   "source": [
    "from sklearn.feature_extraction import FeatureHasher\n",
    "from sklearn.linear_model import SGDClassifier\n",
    "from sklearn.metrics import precision_recall_fscore_support, accuracy_score\n",
    "from sklearn.model_selection import train_test_split\n",
    "\n",
    "target_val = {'negative': -1, 'neutral': 0, 'positive':1}\n",
    "\n",
    "def cls_on_hashes(training_set, n_features):\n",
    "    X_train, X_test, y_train, y_test = train_test_split(\n",
    "            [sample.tokens for sample in training_set.tweets],\n",
    "            [target_val[sample.clazz] for sample in training_set.tweets],\n",
    "            test_size=.2, random_state=1337)\n",
    "\n",
    "    hasher = FeatureHasher(n_features=n_features, input_type='string').fit(X_train)\n",
    "    X_train_hashed = hasher.transform(X_train)\n",
    "    X_test_hashed = hasher.transform(X_test)\n",
    "\n",
    "    clf = SGDClassifier(loss='hinge', penalty='l2', alpha=1e-3, n_iter_no_change=10)\n",
    "    clf.fit(X_train_hashed, y_train)\n",
    "\n",
    "    pred = clf.predict(X_test_hashed)\n",
    "\n",
    "    precision, recall, fscore, support = precision_recall_fscore_support(y_test, pred, average='macro')\n",
    "    acc = accuracy_score(y_test, pred)\n",
    "    \n",
    "    return n_features, precision, recall, fscore, acc"
   ]
  },
  {
   "cell_type": "markdown",
   "metadata": {
    "deletable": false,
    "editable": false,
    "nbgrader": {
     "cell_type": "markdown",
     "checksum": "bd6bcaf8dae7184b60bd9a8adadd85d8",
     "grade": false,
     "grade_id": "cell-1caf16c401c91ef2",
     "locked": true,
     "points": 0,
     "schema_version": 3,
     "solution": false,
     "task": true
    }
   },
   "source": [
    "- Stwórz wykres zależności wybranej miary klasyfikacji od wymiarów macierzy danych (chodzi o liczbę cech do których haszujemy cechy oryginalne). Wystarczy przetestować kilka (>=4) wybranych wartości na skali logarytmicznej."
   ]
  },
  {
   "cell_type": "code",
   "execution_count": 9,
   "metadata": {
    "deletable": false,
    "nbgrader": {
     "cell_type": "code",
     "checksum": "9bd253bac561b269cff3a3dceadc70f0",
     "grade": true,
     "grade_id": "cell-8076c16242981ae9",
     "locked": false,
     "points": 3,
     "schema_version": 3,
     "solution": true,
     "task": false
    },
    "scrolled": false
   },
   "outputs": [
    {
     "data": {
      "image/png": "[encoded data removed]",
      "text/plain": [
       "<Figure size 1008x1008 with 4 Axes>"
      ]
     },
     "metadata": {
      "needs_background": "light"
     },
     "output_type": "display_data"
    }
   ],
   "source": [
    "import matplotlib.pyplot as plt\n",
    "fig, axs = plt.subplots(2,2)\n",
    "fig.set_size_inches(14,14)\n",
    "\n",
    "data = [cls_on_hashes(training_set, n_features) for n_features in range(10, 50000, 500)]\n",
    "n_features = [e[0] for e in data]\n",
    "precision = [e[1] for e in data]\n",
    "recall = [e[2] for e in data]\n",
    "fscore = [e[3] for e in data]\n",
    "acc = [e[4] for e in data]\n",
    "\n",
    "axs[0,0].scatter(n_features, precision)\n",
    "axs[0,0].set_title('Precision')\n",
    "axs[0,0].set_ylabel('Precision')\n",
    "axs[0,0].set_xlabel('Number of features')\n",
    "axs[0,0].set_xscale('log')\n",
    "\n",
    "axs[0,1].scatter(n_features, recall)\n",
    "axs[0,1].set_title('Recall')\n",
    "axs[0,1].set_ylabel('Recall')\n",
    "axs[0,1].set_xlabel('Number of features')\n",
    "axs[0,1].set_xscale('log')\n",
    "\n",
    "axs[1,0].scatter(n_features, fscore)\n",
    "axs[1,0].set_title('F-Score')\n",
    "axs[1,0].set_ylabel('F-Score')\n",
    "axs[1,0].set_xlabel('Number of features')\n",
    "axs[1,0].set_xscale('log')\n",
    "\n",
    "axs[1,1].scatter(n_features, acc)\n",
    "axs[1,1].set_title('Accuracy')\n",
    "axs[1,1].set_ylabel('Accuracy')\n",
    "axs[1,1].set_xlabel('Number of features')\n",
    "axs[1,1].set_xscale('log')"
   ]
  },
  {
   "cell_type": "markdown",
   "metadata": {
    "deletable": false,
    "editable": false,
    "nbgrader": {
     "cell_type": "markdown",
     "checksum": "82f3f52a6fe2a10a300b5d45101b32b5",
     "grade": false,
     "grade_id": "cell-eab7c2a5f0251ff4",
     "locked": true,
     "points": 0,
     "schema_version": 3,
     "solution": false,
     "task": true
    }
   },
   "source": [
    " - Obserwując stworzony wykres - skomentuj. Jak dużo jakości klasyfikacji się traci (albo zyskuje?) korzystając z mniejszej liczby haszowanych cech? Często klasyfikatory bardzo dobrze działają nawet przy liczbie haszowanych cech dla których na pewno istnieją konflikty cech oryginalnych - jak myślisz dlaczego? (Pomyśl o interpretacji takich skonfliktowanych cech)."
   ]
  },
  {
   "cell_type": "markdown",
   "metadata": {
    "deletable": false,
    "nbgrader": {
     "cell_type": "markdown",
     "checksum": "ed30f2d487da41cf1a92ffb63195d621",
     "grade": true,
     "grade_id": "cell-2caea1821af5d8aa",
     "locked": false,
     "points": 1,
     "schema_version": 3,
     "solution": true,
     "task": false
    }
   },
   "source": [
    "Nawet dla liczby cech równej 10 można zauważyć, że klasyfikator uczy się, choć dość nieudolnie. Zwiększenie liczby cech do 1000 daje bardzo zadowalające wyniki, biorąc pod uwagę, że reprezentacja każdej z próbek została bardzo uszczuplona. Dla około 10000 cech osiąga się wartości bliskie maximum, co zgadza się z intuicją, gdyż w korpusie znajduje się `16229` unikalnych wartości, więc osiągnięty jest już rząd tej wielkości.\n",
    "Rozszerzenie algorytmu `feature hashing` wykorzystuje sztuczkę ze znakiem wartości modyfikującej hasz, która w pewnym stopniu pozwala radzić sobie z kolizjami. Jeśli jednak kolizje wystąpią to będą miały wpływ jedynie na część ostatecznego wyniku, więc można zakładać, że przy odpowiedniej liczbie haszowanych cech, niefortunne kolizje znikną w tłumie cech poprawnych."
   ]
  },
  {
   "cell_type": "markdown",
   "metadata": {
    "deletable": false,
    "editable": false,
    "nbgrader": {
     "cell_type": "markdown",
     "checksum": "20139da166319b49eea5cc7e984fc08e",
     "grade": false,
     "grade_id": "cell-0d86672dbabbf54d",
     "locked": true,
     "points": 0,
     "schema_version": 3,
     "solution": false,
     "task": true
    }
   },
   "source": [
    " - W poprzednim zadaniu wczytałeś wynik grupowania Browna do pamięci. Wytrenuj klasyfikator na reprezentacji ,,Bag-of-clusters'' tj. w kolumnach zamiast słów/n-gramów będziesz miał grupy."
   ]
  },
  {
   "cell_type": "code",
   "execution_count": 8,
   "metadata": {
    "deletable": false,
    "nbgrader": {
     "cell_type": "code",
     "checksum": "b13c0457af5dab17e12780eafb1c5ac4",
     "grade": true,
     "grade_id": "cell-55264f6fe514d007",
     "locked": false,
     "points": 5,
     "schema_version": 3,
     "solution": true,
     "task": false
    }
   },
   "outputs": [
    {
     "name": "stdout",
     "output_type": "stream",
     "text": [
      "Liczba dostępnych klastrów: 937\n",
      "Liczba cech (liczba klastrów użytych w problemie): 4367\n",
      "Precision: 0.5811375577481033\n",
      "Recall: 0.5970695970695971\n",
      "F-Score: 0.5807180789511054\n",
      "Accuracy: 0.5970695970695971\n"
     ]
    }
   ],
   "source": [
    "from sklearn.feature_extraction.text import CountVectorizer\n",
    "\n",
    "df = brown_df.dropna()\n",
    "wrds_clstr = dict(zip(df.word, df.cluster))\n",
    "print(\"Liczba dostępnych klastrów: {}\".format(len(df.cluster.unique())))\n",
    "X = [' '.join([str(wrds_clstr[token]) for token in tweet.tokens if token in wrds_clstr.keys()]) for tweet in training_set.tweets]\n",
    "\n",
    "target_val = {'negative': -1, 'neutral': 0, 'positive':1}\n",
    "\n",
    "def cls_on_clusters(X, training_set):\n",
    "    X_train, X_test, y_train, y_test = train_test_split(\n",
    "            X,\n",
    "            [target_val[sample.clazz] for sample in training_set.tweets],\n",
    "            test_size=.2, random_state=1337)\n",
    "\n",
    "    vectorizer = CountVectorizer(lowercase=False).fit(X_train)\n",
    "    X_train_vectorized = vectorizer.transform(X_train)\n",
    "    X_test_vectorized = vectorizer.transform(X_test)\n",
    "    \n",
    "    print(\"Liczba cech (liczba klastrów użytych w problemie): {}\".format(X_train_vectorized.shape[0]))\n",
    "\n",
    "    clf = SGDClassifier(loss='hinge', penalty='l2', alpha=1e-3, n_iter_no_change=10)\n",
    "    clf.fit(X_train_vectorized, y_train)\n",
    "\n",
    "    pred = clf.predict(X_test_vectorized)\n",
    "\n",
    "    precision, recall, fscore, support = precision_recall_fscore_support(y_test, pred, average='weighted')\n",
    "    acc = accuracy_score(y_test, pred)\n",
    "    \n",
    "    return precision, recall, fscore, acc\n",
    "\n",
    "precision, recall, fscore, acc = cls_on_clusters(X, training_set)\n",
    "print(\"Precision: {}\\nRecall: {}\\nF-Score: {}\\nAccuracy: {}\".format(precision, recall, fscore, acc))"
   ]
  },
  {
   "cell_type": "markdown",
   "metadata": {
    "deletable": false,
    "editable": false,
    "nbgrader": {
     "cell_type": "markdown",
     "checksum": "3e47a053ebc12ac2fd97d9c11187da9b",
     "grade": false,
     "grade_id": "cell-493071698fc0205e",
     "locked": true,
     "points": 0,
     "schema_version": 3,
     "solution": false,
     "task": true
    }
   },
   "source": [
    "- Podsumuj eksperymenty: poznałeś dwie możliwości ograniczenia liczby cech - zastąpienie słów ich grupami i haszowanie cech. Jakie są wady i zalety obydwu podejść?"
   ]
  },
  {
   "cell_type": "markdown",
   "metadata": {
    "deletable": false,
    "nbgrader": {
     "cell_type": "markdown",
     "checksum": "b80ace505afba9b12fd5d3896a9046ef",
     "grade": true,
     "grade_id": "cell-4508400659f7243e",
     "locked": false,
     "points": 1,
     "schema_version": 3,
     "solution": true,
     "task": false
    }
   },
   "source": [
    "### Haszowanie cech\n",
    "P: Wprowadza dodatkowy parametr, za pomocą, którego można kontrolować stopień złożoności reprezentacji, poprzez zadanie liczby cech. \n",
    "Pozwala to na podjęcie decyzji co do poświęcenia wyniku klasyfikacji na rzecz zauważalnego przyszpieszenia procesu uczenia. \n",
    "Dodanie nowego słowa do słownika nie wymaga wprowadzania modyfikacji dla pozostałych elementów algorytmu.\n",
    "\n",
    "N: Z drugiej strony, haszowanie cech utrudnia interpretowanie wyników dostarczanych przez klasyfikator wytrenowany na zbiorze przetworzonym z użyciem tej techniki.\n",
    "\n",
    "### Klastrowanie\n",
    "P: Użycie grup jako części składowych wektora cech pozwala na interpretację zależności językowych. \n",
    "Osiąga lepsze wyniki dla mniejszej liczby cech, w porównaniu z podejściem z haszowaniem cech.\n",
    "\n",
    "N: Wymaga wcześniejszego przypisania słów do grup."
   ]
  }
 ],
 "metadata": {
  "kernelspec": {
   "display_name": "Python 3",
   "language": "python",
   "name": "python3"
  },
  "language_info": {
   "codemirror_mode": {
    "name": "ipython",
    "version": 3
   },
   "file_extension": ".py",
   "mimetype": "text/x-python",
   "name": "python",
   "nbconvert_exporter": "python",
   "pygments_lexer": "ipython3",
   "version": "3.7.3"
  }
 },
 "nbformat": 4,
 "nbformat_minor": 2
}
